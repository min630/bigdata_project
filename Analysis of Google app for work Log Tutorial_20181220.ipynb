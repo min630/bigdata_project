{
 "cells": [
  {
   "cell_type": "code",
   "execution_count": 2,
   "metadata": {},
   "outputs": [
    {
     "data": {
      "text/plain": [
       "5672"
      ]
     },
     "execution_count": 2,
     "metadata": {},
     "output_type": "execute_result"
    }
   ],
   "source": [
    "import pyes\n",
    "import elasticsearch\n",
    "\n",
    "es_address='localhost:9200'\n",
    "conn = pyes.es.ES(es_address)\n",
    "bq = pyes.query.BoolQuery() \n",
    "#q = pyes.query.MatchAllQuery()\n",
    "\n",
    "tq = pyes.query.TermQuery(field=\"actor_email\", value=\"ericmao@cyber00rn.org\")\n",
    "\n",
    "ESR = pyes.ESRange(field=\"id_time\", from_value=\"2016-03-01\", to_value=\"2016-04-30\", \n",
    "                   include_lower=True ,include_upper=False)\n",
    "rq = pyes.query.RangeQuery(qrange=ESR)\n",
    "\n",
    "bq.add_must(tq)\n",
    "bq.add_must(rq)\n",
    "\n",
    "result = conn.search(query=bq , indices='google' , doc_types='drive') \n",
    "len(result)"
   ]
  },
  {
   "cell_type": "code",
   "execution_count": 3,
   "metadata": {},
   "outputs": [
    {
     "data": {
      "text/plain": [
       "{'23.5,121',\n",
       " '25.039199829101562,121.52499389648438',\n",
       " '37.56709289550781,-122.37100219726562',\n",
       " '37.77490234375,-122.41940307617188',\n",
       " '38,-97',\n",
       " '50.08329772949219,14.416702270507812',\n",
       " '50.211700439453125,15.844192504882812'}"
      ]
     },
     "execution_count": 3,
     "metadata": {},
     "output_type": "execute_result"
    }
   ],
   "source": [
    "country_set=set()\n",
    "for i in range(0,100):\n",
    "    if 'geoip_countryCode' in result[i]:\n",
    "        country_set.add(result[i]['geoip_countryCode'])\n",
    "\n",
    "len(country_set)\n",
    "country_set\n",
    "\n",
    "ip_set=set()\n",
    "for i in range(0,100):\n",
    "    if 'ipAddress' in result[i]:\n",
    "        ip_set.add(result[i]['ipAddress']+\",\"+result[i]['geoip_countryCode'])\n",
    "\n",
    "len(ip_set)\n",
    "ip_set\n",
    "\n",
    "geo_set=set()\n",
    "for i in range(0,len(result)):\n",
    "    if 'ipAddress' in result[i]:\n",
    "        geo_set.add(str(result[i]['geoip_latitude'])+\",\"+str(result[i]['geoip_longitude']))\n",
    "\n",
    "len(geo_set)\n",
    "geo_set"
   ]
  },
  {
   "cell_type": "code",
   "execution_count": 4,
   "metadata": {},
   "outputs": [
    {
     "name": "stdout",
     "output_type": "stream",
     "text": [
      "1\n",
      "{'TW'}\n",
      "________________________\n",
      "10\n",
      "{'49.214.49.175,TW', '180.206.2.56,TW', '140.92.253.17,TW', '211.73.74.33,TW', '49.217.241.188,TW', '140.92.146.23,TW', '101.12.65.229,TW', '211.73.74.35,TW', '49.216.65.186,TW', '180.206.2.57,TW'}\n",
      "________________________\n",
      "7\n",
      "{'50.211700439453125,15.844192504882812', '50.08329772949219,14.416702270507812', '37.77490234375,-122.41940307617188', '25.039199829101562,121.52499389648438', '23.5,121', '37.56709289550781,-122.37100219726562', '38,-97'}\n"
     ]
    }
   ],
   "source": [
    "print (len(country_set))\n",
    "print (country_set)\n",
    "print(\"________________________\")\n",
    "print (len(ip_set))\n",
    "print (ip_set)\n",
    "print(\"________________________\")\n",
    "print (len(geo_set))\n",
    "print (geo_set)\n"
   ]
  },
  {
   "cell_type": "code",
   "execution_count": null,
   "metadata": {},
   "outputs": [],
   "source": []
  }
 ],
 "metadata": {
  "kernelspec": {
   "display_name": "Python 3",
   "language": "python",
   "name": "python3"
  },
  "language_info": {
   "codemirror_mode": {
    "name": "ipython",
    "version": 3
   },
   "file_extension": ".py",
   "mimetype": "text/x-python",
   "name": "python",
   "nbconvert_exporter": "python",
   "pygments_lexer": "ipython3",
   "version": "3.7.0"
  }
 },
 "nbformat": 4,
 "nbformat_minor": 2
}
