{
 "cells": [
  {
   "cell_type": "markdown",
   "metadata": {},
   "source": [
    "# 下載Yelp資料集"
   ]
  },
  {
   "cell_type": "code",
   "execution_count": 3,
   "metadata": {},
   "outputs": [],
   "source": [
    "import os\n",
    "import urllib.request\n",
    "\n",
    "\n",
    "__all__ = [\"download\"]\n",
    "\n",
    "\n",
    "def download_files(bucket_path, file_list, download_path):\n",
    "    \"\"\"\n",
    "    Provide path to s3 bucket, download a file list to download path\n",
    "    \"\"\"\n",
    "    if not os.path.isdir(download_path):\n",
    "        os.makedirs(download_path)\n",
    "    for f in file_list:\n",
    "        # check if file already exists\n",
    "        file_path = os.path.join(download_path, f)\n",
    "        if os.path.isfile(file_path):\n",
    "            print ('File \"%s\" already exists' %f)\n",
    "        else:\n",
    "            print ('Downloading \"%s\" ...' % f)\n",
    "            urllib.request.urlretrieve(bucket_path + f, file_path)\n",
    "            print ('Done')\n",
    "\n",
    "\n",
    "def download(file_list=[]):\n",
    "    \"\"\"\n",
    "    Downloads files from AWS S3 repository\n",
    "    Here are all avialble dataset from the repository\n",
    "    file_list=[\"yelp_academic_dataset_business.pickle\"\n",
    "               \"yelp_academic_dataset_review.pickle\",\n",
    "               \"yelp_academic_dataset_user.pickle\",\n",
    "               \"yelp_academic_dataset_checkin.pickle\",\n",
    "               \"yelp_academic_dataset_tip.pickle\"]\n",
    "    \"\"\"\n",
    "    if file_list == []:\n",
    "        print (\"Providiing empty file_list, no download...\")\n",
    "    else:\n",
    "        bucket_path = \"https://s3-us-west-2.amazonaws.com/science-of-science-bucket/yelp_academic_dataset/\"\n",
    "        current_path = os.path.dirname(os.path.abspath(\"/\"))\n",
    "        download_path = \"/Users/M0744018/Documents/Yelp Analysis\"\n",
    "        download_files(bucket_path, file_list, download_path)\n"
   ]
  },
  {
   "cell_type": "code",
   "execution_count": 2,
   "metadata": {},
   "outputs": [
    {
     "name": "stdout",
     "output_type": "stream",
     "text": [
      "Downloading \"yelp_academic_dataset_business.pickle\" ...\n",
      "Done\n",
      "Downloading \"yelp_academic_dataset_review.pickle\" ...\n",
      "Done\n",
      "Downloading \"yelp_academic_dataset_user.pickle\" ...\n",
      "Done\n",
      "Downloading \"yelp_academic_dataset_checkin.pickle\" ...\n",
      "Done\n",
      "Downloading \"yelp_academic_dataset_tip.pickle\" ...\n",
      "Done\n"
     ]
    }
   ],
   "source": [
    "download(file_list=[\"yelp_academic_dataset_business.pickle\",\n",
    "                              \"yelp_academic_dataset_review.pickle\",\n",
    "                              \"yelp_academic_dataset_user.pickle\",\n",
    "                              \"yelp_academic_dataset_checkin.pickle\",\n",
    "                              \"yelp_academic_dataset_tip.pickle\"])"
   ]
  },
  {
   "cell_type": "markdown",
   "metadata": {},
   "source": [
    "# 讀取Yelp的資料"
   ]
  },
  {
   "cell_type": "code",
   "execution_count": 1,
   "metadata": {},
   "outputs": [],
   "source": [
    "import os\n",
    "import urllib.request\n",
    "import pandas as pd\n",
    "review = pd.read_pickle('/Users/M0744018/Documents/Yelp Analysis/yelp_academic_dataset_business.pickle')\n",
    "out = review.to_json(orient='records')[1:-1].replace('},{', '} {')"
   ]
  },
  {
   "cell_type": "code",
   "execution_count": 6,
   "metadata": {},
   "outputs": [
    {
     "data": {
      "text/plain": [
       "61184"
      ]
     },
     "execution_count": 6,
     "metadata": {},
     "output_type": "execute_result"
    }
   ],
   "source": [
    "data = []\n",
    "for i in review.index:\n",
    "    d = {}\n",
    "    for j in review.columns:\n",
    "        d[j] = review[j][i]\n",
    "    data.append(d)\n",
    "len(data)"
   ]
  },
  {
   "cell_type": "code",
   "execution_count": 8,
   "metadata": {},
   "outputs": [
    {
     "data": {
      "text/plain": [
       "Index(['attributes', 'business_id', 'categories', 'city', 'full_address',\n",
       "       'hours', 'latitude', 'longitude', 'name', 'neighborhoods', 'open',\n",
       "       'review_count', 'stars', 'state', 'type'],\n",
       "      dtype='object')"
      ]
     },
     "execution_count": 8,
     "metadata": {},
     "output_type": "execute_result"
    }
   ],
   "source": [
    "review.columns"
   ]
  },
  {
   "cell_type": "code",
   "execution_count": 5,
   "metadata": {},
   "outputs": [
    {
     "data": {
      "text/plain": [
       "0                            {'By Appointment Only': True}\n",
       "1        {'Happy Hour': True, 'Accepts Credit Cards': T...\n",
       "2                                  {'Good for Kids': True}\n",
       "3                                                       {}\n",
       "4        {'Alcohol': 'full_bar', 'Noise Level': 'averag...\n",
       "5        {'Alcohol': 'full_bar', 'Noise Level': 'loud',...\n",
       "6                                                       {}\n",
       "7                                  {'Good for Kids': True}\n",
       "8                                                       {}\n",
       "9        {'Take-out': True, 'Drive-Thru': False, 'Outdo...\n",
       "10       {'Price Range': 3, 'Accepts Credit Cards': Tru...\n",
       "11       {'Alcohol': 'full_bar', 'Noise Level': 'averag...\n",
       "12       {'Alcohol': 'none', 'Noise Level': 'average', ...\n",
       "13       {'Take-out': True, 'Price Range': 1, 'Outdoor ...\n",
       "14       {'Accepts Credit Cards': True, 'Wi-Fi': 'free'...\n",
       "15       {'Take-out': True, 'Price Range': 2, 'Outdoor ...\n",
       "16                                                      {}\n",
       "17                         {'Accepts Credit Cards': False}\n",
       "18       {'Take-out': True, 'Accepts Credit Cards': Tru...\n",
       "19                           {'By Appointment Only': True}\n",
       "20       {'Take-out': True, 'Alcohol': 'none', 'Noise L...\n",
       "21       {'Take-out': True, 'Accepts Credit Cards': Tru...\n",
       "22                                                      {}\n",
       "23       {'Take-out': True, 'Accepts Credit Cards': Tru...\n",
       "24                           {'By Appointment Only': True}\n",
       "25       {'Take-out': True, 'Accepts Credit Cards': Tru...\n",
       "26       {'Attire': 'casual', 'Parking': {'garage': Fal...\n",
       "27       {'Accepts Credit Cards': True, 'Price Range': ...\n",
       "28       {'Accepts Credit Cards': True, 'Price Range': ...\n",
       "29       {'Take-out': True, 'Accepts Credit Cards': Tru...\n",
       "                               ...                        \n",
       "61154                              {'Good for Kids': True}\n",
       "61155    {'Price Range': 2, 'Accepts Credit Cards': Tru...\n",
       "61156    {'Take-out': False, 'Accepts Credit Cards': Tr...\n",
       "61157    {'Take-out': True, 'Drive-Thru': True, 'Alcoho...\n",
       "61158                                                   {}\n",
       "61159    {'Take-out': True, 'Accepts Credit Cards': Tru...\n",
       "61160    {'Accepts Credit Cards': True, 'Price Range': ...\n",
       "61161    {'Take-out': True, 'Accepts Credit Cards': Tru...\n",
       "61162    {'Drive-Thru': False, 'Alcohol': 'full_bar', '...\n",
       "61163    {'Take-out': True, 'Accepts Credit Cards': Tru...\n",
       "61164    {'Take-out': True, 'Good For': {'dessert': Fal...\n",
       "61165    {'Take-out': True, 'Accepts Credit Cards': Tru...\n",
       "61166    {'Take-out': True, 'Takes Reservations': True,...\n",
       "61167    {'Hair Types Specialized In': {'coloring': Tru...\n",
       "61168    {'Take-out': True, 'Takes Reservations': False...\n",
       "61169    {'Take-out': True, 'Accepts Credit Cards': Tru...\n",
       "61170    {'Take-out': True, 'Accepts Credit Cards': Tru...\n",
       "61171    {'By Appointment Only': True, 'Accepts Credit ...\n",
       "61172    {'Take-out': True, 'Price Range': 2, 'Outdoor ...\n",
       "61173    {'Take-out': True, 'Accepts Credit Cards': Tru...\n",
       "61174                       {'Accepts Credit Cards': True}\n",
       "61175    {'Take-out': False, 'Price Range': 2, 'Outdoor...\n",
       "61176                                                   {}\n",
       "61177    {'Alcohol': 'full_bar', 'Noise Level': 'averag...\n",
       "61178    {'Take-out': False, 'Accepts Credit Cards': Tr...\n",
       "61179                              {'Good for Kids': True}\n",
       "61180                                                   {}\n",
       "61181    {'Delivery': False, 'Accepts Credit Cards': Tr...\n",
       "61182                       {'Accepts Credit Cards': True}\n",
       "61183                                                   {}\n",
       "Name: attributes, Length: 61184, dtype: object"
      ]
     },
     "execution_count": 5,
     "metadata": {},
     "output_type": "execute_result"
    }
   ],
   "source": [
    "review['attributes']"
   ]
  },
  {
   "cell_type": "code",
   "execution_count": 10,
   "metadata": {},
   "outputs": [],
   "source": [
    "json_data = review.to_json(orient='records')"
   ]
  },
  {
   "cell_type": "code",
   "execution_count": 1,
   "metadata": {},
   "outputs": [],
   "source": [
    "import elasticsearch"
   ]
  },
  {
   "cell_type": "markdown",
   "metadata": {},
   "source": [
    "1. 建立index\n",
    "2. 讀取每筆pandas資料\n",
    "3. 寫入elastcsearch"
   ]
  },
  {
   "cell_type": "code",
   "execution_count": null,
   "metadata": {
    "collapsed": true
   },
   "outputs": [],
   "source": []
  },
  {
   "cell_type": "markdown",
   "metadata": {},
   "source": [
    "1. 從elasticsearch抓資料出來查詢, by 關鍵字\n",
    "2. 從elasticsearch透過2-layer aggregation進行分析"
   ]
  },
  {
   "cell_type": "code",
   "execution_count": null,
   "metadata": {
    "collapsed": true
   },
   "outputs": [],
   "source": []
  },
  {
   "cell_type": "markdown",
   "metadata": {},
   "source": [
    "1. 畫一張heatmap來分析\n",
    "2. 畫一張histogram分析"
   ]
  },
  {
   "cell_type": "code",
   "execution_count": 27,
   "metadata": {},
   "outputs": [
    {
     "data": {
      "text/plain": [
       "<matplotlib.axes._subplots.AxesSubplot at 0x11230eb00>"
      ]
     },
     "execution_count": 27,
     "metadata": {},
     "output_type": "execute_result"
    },
    {
     "data": {
      "image/png": "[encoded data removed]",
      "text/plain": [
       "<matplotlib.figure.Figure at 0x112f5ccc0>"
      ]
     },
     "metadata": {},
     "output_type": "display_data"
    }
   ],
   "source": [
    "%matplotlib inline\n",
    "from string import ascii_letters\n",
    "import numpy as np\n",
    "import pandas as pd\n",
    "import seaborn as sns\n",
    "import matplotlib.pyplot as plt\n",
    "\n",
    "sns.set(style=\"white\")\n",
    "\n",
    "# Generate a large random dataset\n",
    "rs = np.random.RandomState(33)\n",
    "d = pd.DataFrame(data=rs.normal(size=(100, 26)),\n",
    "                 columns=list(ascii_letters[26:]))\n",
    "\n",
    "# Compute the correlation matrix\n",
    "corr = d.corr()\n",
    "\n",
    "# Generate a mask for the upper triangle\n",
    "mask = np.zeros_like(corr, dtype=np.bool)\n",
    "mask[np.triu_indices_from(mask)] = True\n",
    "\n",
    "# Set up the matplotlib figure\n",
    "f, ax = plt.subplots(figsize=(11, 9))\n",
    "\n",
    "# Generate a custom diverging colormap\n",
    "cmap = sns.diverging_palette(220, 10, as_cmap=True)\n",
    "\n",
    "# Draw the heatmap with the mask and correct aspect ratio\n",
    "sns.heatmap(corr, mask=mask, cmap=cmap, vmax=.3, center=0,\n",
    "            square=True, linewidths=.5, cbar_kws={\"shrink\": .5})"
   ]
  },
  {
   "cell_type": "code",
   "execution_count": null,
   "metadata": {
    "collapsed": true
   },
   "outputs": [],
   "source": []
  }
 ],
 "metadata": {
  "kernelspec": {
   "display_name": "Python 3",
   "language": "python",
   "name": "python3"
  },
  "language_info": {
   "codemirror_mode": {
    "name": "ipython",
    "version": 3
   },
   "file_extension": ".py",
   "mimetype": "text/x-python",
   "name": "python",
   "nbconvert_exporter": "python",
   "pygments_lexer": "ipython3",
   "version": "3.7.0"
  }
 },
 "nbformat": 4,
 "nbformat_minor": 2
}
